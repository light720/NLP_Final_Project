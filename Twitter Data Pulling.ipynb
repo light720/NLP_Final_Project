{
 "cells": [
  {
   "cell_type": "code",
   "execution_count": null,
   "metadata": {
    "id": "1InOeFLGGVwb"
   },
   "outputs": [],
   "source": [
    "import tweepy\n",
    "import json \n",
    "#Add your credentials here\n",
    "twitter_keys = {\n",
    "        'consumer_key':        'XXX',\n",
    "        'consumer_secret':     'XXX',\n",
    "        'access_token_key':    'XXX',\n",
    "        'access_token_secret': 'XXX'\n",
    "    }\n",
    "\n",
    "#Setup access to API\n",
    "auth = tweepy.OAuthHandler(twitter_keys['consumer_key'], twitter_keys['consumer_secret'])\n",
    "auth.set_access_token(twitter_keys['access_token_key'], twitter_keys['access_token_secret'])\n",
    "\n",
    "api = tweepy.API(auth)\n",
    "\n",
    "#Make call on home timeline, print each tweets text\n",
    "public_tweets = api.home_timeline()"
   ]
  },
  {
   "cell_type": "code",
   "execution_count": null,
   "metadata": {
    "colab": {
     "base_uri": "https://localhost:8080/"
    },
    "id": "q7E-l-ALGZA9",
    "outputId": "1fce1bb4-d514-4686-9463-79d85244cb41"
   },
   "outputs": [
    {
     "name": "stdout",
     "output_type": "stream",
     "text": [
      "{\n",
      "    \"contributors\": null,\n",
      "    \"coordinates\": null,\n",
      "    \"created_at\": \"Tue Aug 24 14:37:05 +0000 2021\",\n",
      "    \"entities\": {\n",
      "        \"hashtags\": [],\n",
      "        \"symbols\": [],\n",
      "        \"urls\": [\n",
      "            {\n",
      "                \"display_url\": \"twitter.com/i/web/status/1\\u2026\",\n",
      "                \"expanded_url\": \"https://twitter.com/i/web/status/1430177347068735498\",\n",
      "                \"indices\": [\n",
      "                    117,\n",
      "                    140\n",
      "                ],\n",
      "                \"url\": \"https://t.co/1YENB1o2nu\"\n",
      "            }\n",
      "        ],\n",
      "        \"user_mentions\": []\n",
      "    },\n",
      "    \"favorite_count\": 1798,\n",
      "    \"favorited\": false,\n",
      "    \"geo\": null,\n",
      "    \"id\": 1430177347068735498,\n",
      "    \"id_str\": \"1430177347068735498\",\n",
      "    \"in_reply_to_screen_name\": null,\n",
      "    \"in_reply_to_status_id\": null,\n",
      "    \"in_reply_to_status_id_str\": null,\n",
      "    \"in_reply_to_user_id\": null,\n",
      "    \"in_reply_to_user_id_str\": null,\n",
      "    \"is_quote_status\": false,\n",
      "    \"lang\": \"en\",\n",
      "    \"place\": null,\n",
      "    \"possibly_sensitive\": false,\n",
      "    \"possibly_sensitive_appealable\": false,\n",
      "    \"retweet_count\": 320,\n",
      "    \"retweeted\": false,\n",
      "    \"source\": \"<a href=\\\"https://mobile.twitter.com\\\" rel=\\\"nofollow\\\">Twitter Web App</a>\",\n",
      "    \"text\": \"Kids are heading back to school over the next few weeks\\u2014and because they can't yet get vaccinated, adults around th\\u2026 https://t.co/1YENB1o2nu\",\n",
      "    \"truncated\": true,\n",
      "    \"user\": {\n",
      "        \"contributors_enabled\": false,\n",
      "        \"created_at\": \"Tue Apr 09 18:04:35 +0000 2013\",\n",
      "        \"default_profile\": false,\n",
      "        \"default_profile_image\": false,\n",
      "        \"description\": \"2016 Democratic Nominee, SecState, Senator, hair icon. Mom, Wife, Grandma x3, lawyer, advocate, fan of walks in the woods & standing up for our democracy.\",\n",
      "        \"entities\": {\n",
      "            \"description\": {\n",
      "                \"urls\": []\n",
      "            },\n",
      "            \"url\": {\n",
      "                \"urls\": [\n",
      "                    {\n",
      "                        \"display_url\": \"onwardtogether.org\",\n",
      "                        \"expanded_url\": \"http://onwardtogether.org\",\n",
      "                        \"indices\": [\n",
      "                            0,\n",
      "                            23\n",
      "                        ],\n",
      "                        \"url\": \"https://t.co/99DVW9q1yt\"\n",
      "                    }\n",
      "                ]\n",
      "            }\n",
      "        },\n",
      "        \"favourites_count\": 1145,\n",
      "        \"follow_request_sent\": false,\n",
      "        \"followers_count\": 30910031,\n",
      "        \"following\": true,\n",
      "        \"friends_count\": 938,\n",
      "        \"geo_enabled\": false,\n",
      "        \"has_extended_profile\": true,\n",
      "        \"id\": 1339835893,\n",
      "        \"id_str\": \"1339835893\",\n",
      "        \"is_translation_enabled\": false,\n",
      "        \"is_translator\": false,\n",
      "        \"lang\": null,\n",
      "        \"listed_count\": 42242,\n",
      "        \"location\": \"New York, NY\",\n",
      "        \"name\": \"Hillary Clinton\",\n",
      "        \"notifications\": false,\n",
      "        \"profile_background_color\": \"0057B8\",\n",
      "        \"profile_background_image_url\": \"http://abs.twimg.com/images/themes/theme1/bg.png\",\n",
      "        \"profile_background_image_url_https\": \"https://abs.twimg.com/images/themes/theme1/bg.png\",\n",
      "        \"profile_background_tile\": false,\n",
      "        \"profile_banner_url\": \"https://pbs.twimg.com/profile_banners/1339835893/1539631689\",\n",
      "        \"profile_image_url\": \"http://pbs.twimg.com/profile_images/1291192333199958017/SvH8J8_P_normal.jpg\",\n",
      "        \"profile_image_url_https\": \"https://pbs.twimg.com/profile_images/1291192333199958017/SvH8J8_P_normal.jpg\",\n",
      "        \"profile_link_color\": \"0057B8\",\n",
      "        \"profile_sidebar_border_color\": \"000000\",\n",
      "        \"profile_sidebar_fill_color\": \"000000\",\n",
      "        \"profile_text_color\": \"000000\",\n",
      "        \"profile_use_background_image\": false,\n",
      "        \"protected\": false,\n",
      "        \"screen_name\": \"HillaryClinton\",\n",
      "        \"statuses_count\": 12834,\n",
      "        \"time_zone\": null,\n",
      "        \"translator_type\": \"none\",\n",
      "        \"url\": \"https://t.co/99DVW9q1yt\",\n",
      "        \"utc_offset\": null,\n",
      "        \"verified\": true,\n",
      "        \"withheld_in_countries\": []\n",
      "    }\n",
      "}\n"
     ]
    }
   ],
   "source": [
    "status = public_tweets[0]\n",
    "\n",
    "#convert to string\n",
    "json_str = json.dumps(status._json)\n",
    "\n",
    "#deserialise string into python object\n",
    "parsed = json.loads(json_str)\n",
    "\n",
    "print(json.dumps(parsed, indent=4, sort_keys=True))"
   ]
  },
  {
   "cell_type": "code",
   "execution_count": null,
   "metadata": {
    "id": "USbrqvWVdaCo"
   },
   "outputs": [],
   "source": [
    "#Class to store the twitter data\n",
    "class TweetMiner(object):\n",
    "\n",
    "    result_limit    =   20    \n",
    "    data            =   []\n",
    "    api             =   False\n",
    "    \n",
    "    twitter_keys = {\n",
    "        'consumer_key':        'xxx',\n",
    "        'consumer_secret':     'xxx',\n",
    "        'access_token_key':    'xxx',\n",
    "        'access_token_secret': 'xxx'\n",
    "    }\n",
    "    \n",
    "    \n",
    "    def __init__(self, keys_dict=twitter_keys, api=api, result_limit = 20):\n",
    "        \n",
    "        self.twitter_keys = keys_dict\n",
    "        \n",
    "        auth = tweepy.OAuthHandler(keys_dict['consumer_key'], keys_dict['consumer_secret'])\n",
    "        auth.set_access_token(keys_dict['access_token_key'], keys_dict['access_token_secret'])\n",
    "        \n",
    "        self.api = tweepy.API(auth)\n",
    "        self.twitter_keys = keys_dict\n",
    "        \n",
    "        self.result_limit = result_limit\n",
    "        \n",
    "\n",
    "    def mine_user_tweets(self, user=\"NVAX\", #BECAUSE WHO ELSE!\n",
    "                         mine_rewteets=False,\n",
    "                         max_pages=5):\n",
    "\n",
    "        data           =  []\n",
    "        last_tweet_id  =  False\n",
    "        page           =  1\n",
    "        \n",
    "        while page <= max_pages:\n",
    "            if last_tweet_id:\n",
    "                statuses   =   self.api.user_timeline(screen_name=user,\n",
    "                                                     count=self.result_limit,\n",
    "                                                     max_id=last_tweet_id - 1,\n",
    "                                                     tweet_mode = 'extended',\n",
    "                                                     include_retweets=True\n",
    "                                                    )        \n",
    "            else:\n",
    "                statuses   =   self.api.user_timeline(screen_name=user,\n",
    "                                                        count=self.result_limit,\n",
    "                                                        tweet_mode = 'extended',\n",
    "                                                        include_retweets=True)\n",
    "                \n",
    "            for item in statuses:\n",
    "\n",
    "                mined = {\n",
    "                    'tweet_id':        item.id,\n",
    "                    'name':            item.user.name,\n",
    "                    'screen_name':     item.user.screen_name,\n",
    "                    'retweet_count':   item.retweet_count,\n",
    "                    'text':            item.full_text,\n",
    "                    'mined_at':        datetime.datetime.now(),\n",
    "                    'created_at':      item.created_at,\n",
    "                    'favourite_count': item.favorite_count,\n",
    "                    'hashtags':        item.entities['hashtags'],\n",
    "                    'status_count':    item.user.statuses_count,\n",
    "                    'location':        item.place,\n",
    "                    'source_device':   item.source\n",
    "                }\n",
    "                \n",
    "                try:\n",
    "                    mined['retweet_text'] = item.retweeted_status.full_text\n",
    "                except:\n",
    "                    mined['retweet_text'] = 'None'\n",
    "                try:\n",
    "                    mined['quote_text'] = item.quoted_status.full_text\n",
    "                    mined['quote_screen_name'] = status.quoted_status.user.screen_name\n",
    "                except:\n",
    "                    mined['quote_text'] = 'None'\n",
    "                    mined['quote_screen_name'] = 'None'\n",
    "                \n",
    "                last_tweet_id = item.id\n",
    "                data.append(mined)\n",
    "                \n",
    "            page += 1\n",
    "            \n",
    "        return data "
   ]
  },
  {
   "cell_type": "code",
   "execution_count": null,
   "metadata": {
    "id": "l2CRVVxleQ9V"
   },
   "outputs": [],
   "source": [
    "miner=TweetMiner(result_limit = 20000 )"
   ]
  },
  {
   "cell_type": "code",
   "execution_count": null,
   "metadata": {
    "id": "4mTTDfmOew30"
   },
   "outputs": [],
   "source": [
    "import pandas as pd\n",
    "import datetime \n",
    "mined_tweets = miner.mine_user_tweets(user='NVAX', max_pages=100)\n",
    "\n",
    "mined_tweets_df= pd.DataFrame(mined_tweets)"
   ]
  },
  {
   "cell_type": "code",
   "execution_count": null,
   "metadata": {
    "colab": {
     "base_uri": "https://localhost:8080/",
     "height": 181
    },
    "collapsed": true,
    "id": "VC22r-x4e3Uj",
    "outputId": "21a8f642-dd36-429a-a062-c89623e5bbcb"
   },
   "outputs": [
    {
     "ename": "NameError",
     "evalue": "ignored",
     "output_type": "error",
     "traceback": [
      "\u001b[0;31m---------------------------------------------------------------------------\u001b[0m",
      "\u001b[0;31mNameError\u001b[0m                                 Traceback (most recent call last)",
      "\u001b[0;32m<ipython-input-9-a1bb615dd26e>\u001b[0m in \u001b[0;36m<module>\u001b[0;34m()\u001b[0m\n\u001b[0;32m----> 1\u001b[0;31m \u001b[0mprint\u001b[0m\u001b[0;34m(\u001b[0m\u001b[0mmined_tweets_df\u001b[0m\u001b[0;34m.\u001b[0m\u001b[0mtext\u001b[0m\u001b[0;34m)\u001b[0m\u001b[0;34m\u001b[0m\u001b[0;34m\u001b[0m\u001b[0m\n\u001b[0m\u001b[1;32m      2\u001b[0m \u001b[0mmined_tweets_df\u001b[0m\u001b[0;34m.\u001b[0m\u001b[0mto_csv\u001b[0m\u001b[0;34m(\u001b[0m\u001b[0;34m'Elon Musk.csv'\u001b[0m\u001b[0;34m)\u001b[0m\u001b[0;34m\u001b[0m\u001b[0;34m\u001b[0m\u001b[0m\n",
      "\u001b[0;31mNameError\u001b[0m: name 'mined_tweets_df' is not defined"
     ]
    }
   ],
   "source": [
    "print(mined_tweets_df.text)\n",
    "mined_tweets_df.to_csv('Elon Musk.csv')"
   ]
  },
  {
   "cell_type": "code",
   "execution_count": null,
   "metadata": {
    "id": "gRO0d5zChSeG"
   },
   "outputs": [],
   "source": [
    "import tweepy\n",
    "import csv\n",
    "import pandas as pd\n",
    "\n",
    "####input your credentials here\n",
    "consumer_key = 'XXX'\n",
    "consumer_secret = 'XXX'\n",
    "access_token = 'XXX'\n",
    "access_token_secret = 'XXX'\n",
    "\n",
    "auth = tweepy.OAuthHandler(consumer_key, consumer_secret)\n",
    "auth.set_access_token(access_token, access_token_secret)\n",
    "api = tweepy.API(auth,wait_on_rate_limit=True)\n",
    "\n",
    "# Open/Create a file to append data\n",
    "csvFile = open('Dogecoin.csv', 'w')\n",
    "#Use csv Writer\n",
    "csvWriter = csv.writer(csvFile)\n",
    "\n",
    "for tweet in tweepy.Cursor(api.search,q=\"#Dogecoin\",count=20000,\n",
    "                           lang=\"en\",\n",
    "                           since=\"2021-01-01\").items():\n",
    "    #print (tweet.created_at, tweet.text)\n",
    "    csvWriter.writerow([tweet.created_at, tweet.text.encode('utf-8')])"
   ]
  },
  {
   "cell_type": "code",
   "execution_count": null,
   "metadata": {
    "id": "ITpbeb-GS-BG"
   },
   "outputs": [],
   "source": [
    "auth = tweepy.OAuthHandler(consumer_key, consumer_secret)\n",
    "auth.set_access_token(access_token, access_token_secret)\n",
    "api = tweepy.API(auth,wait_on_rate_limit=True)"
   ]
  },
  {
   "cell_type": "code",
   "execution_count": null,
   "metadata": {
    "id": "k9kb3KR_1Jgw"
   },
   "outputs": [],
   "source": [
    "pip install snscrape"
   ]
  },
  {
   "cell_type": "code",
   "execution_count": null,
   "metadata": {
    "id": "TpCugSRc1W5N"
   },
   "outputs": [],
   "source": [
    "import snscrape.modules.twitter as sntwitter"
   ]
  },
  {
   "cell_type": "code",
   "execution_count": null,
   "metadata": {
    "id": "GQN4OthU1auO"
   },
   "outputs": [],
   "source": [
    "csvFile = open('NVAX.csv', 'w') #creates a file in which you want to store the data.\n",
    "csvWriter = csv.writer(csvFile)"
   ]
  },
  {
   "cell_type": "code",
   "execution_count": null,
   "metadata": {
    "id": "Es37MYX_1euH"
   },
   "outputs": [],
   "source": [
    "import snscrape.modules.twitter as sntwitter\n",
    "\n",
    "csvFile = open('Doge.csv', 'w') #creates a file in which you want to store the data.\n",
    "csvWriter = csv.writer(csvFile)\n",
    "\n",
    "maxTweets = 20000  # the number of tweets you require\n",
    "for i,tweet in enumerate(sntwitter.TwitterSearchScraper('#doge' + 'since:2021-01-01 until:2021-08-05').get_items()) :\n",
    "        if i > maxTweets :\n",
    "            break\n",
    "        #print(tweet.date)\n",
    "        csvWriter.writerow([tweet.date, tweet.content.encode('utf-8')]) #If you need more information, just provide the attributes"
   ]
  },
  {
   "cell_type": "code",
   "execution_count": null,
   "metadata": {
    "id": "au7UlkiYHUjO"
   },
   "outputs": [],
   "source": []
  }
 ],
 "metadata": {
  "accelerator": "GPU",
  "colab": {
   "collapsed_sections": [],
   "name": "Copy of Untitled1.ipynb",
   "provenance": []
  },
  "kernelspec": {
   "display_name": "Python 3",
   "language": "python",
   "name": "python3"
  },
  "language_info": {
   "codemirror_mode": {
    "name": "ipython",
    "version": 3
   },
   "file_extension": ".py",
   "mimetype": "text/x-python",
   "name": "python",
   "nbconvert_exporter": "python",
   "pygments_lexer": "ipython3",
   "version": "3.8.5"
  }
 },
 "nbformat": 4,
 "nbformat_minor": 1
}
