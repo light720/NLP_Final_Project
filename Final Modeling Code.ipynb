{
 "cells": [
  {
   "cell_type": "code",
   "execution_count": 132,
   "metadata": {},
   "outputs": [
    {
     "name": "stderr",
     "output_type": "stream",
     "text": [
      "[nltk_data] Downloading package words to /Users/ZhaoLi/nltk_data...\n",
      "[nltk_data]   Package words is already up-to-date!\n"
     ]
    },
    {
     "name": "stdout",
     "output_type": "stream",
     "text": [
      "Reading twitter - 1grams ...\n",
      "Reading twitter - 2grams ...\n"
     ]
    },
    {
     "name": "stderr",
     "output_type": "stream",
     "text": [
      "[nltk_data] Downloading package wordnet to /Users/ZhaoLi/nltk_data...\n",
      "[nltk_data]   Package wordnet is already up-to-date!\n",
      "[nltk_data] Downloading package stopwords to\n",
      "[nltk_data]     /Users/ZhaoLi/nltk_data...\n",
      "[nltk_data]   Package stopwords is already up-to-date!\n"
     ]
    },
    {
     "name": "stdout",
     "output_type": "stream",
     "text": [
      "Elon has mentioned Doge 47 times in his tweets\n"
     ]
    }
   ],
   "source": [
    "import csv\n",
    "import pandas as pd\n",
    "import re\n",
    "import emoji\n",
    "import nltk\n",
    "from ekphrasis.classes.segmenter import Segmenter\n",
    "import preprocessor as p\n",
    "from nltk import word_tokenize, FreqDist\n",
    "from nltk.corpus import stopwords\n",
    "from nltk.stem import WordNetLemmatizer\n",
    "\n",
    "#Part of the code is referenced on online source\n",
    "#https://stackoverflow.com/questions/64719706/cleaning-twitter-data-pandas-python\n",
    "\n",
    "def return_doge_dict():\n",
    "    nltk.download('words')\n",
    "    words = set(nltk.corpus.words.words())\n",
    "\n",
    "    #column_name = ['Date','Tweet']\n",
    "    origin = pd.read_csv('Elon_Musk.csv')\n",
    "\n",
    "    Tweet_tgt = origin.text\n",
    "\n",
    "    #segmenter using the word statistics from Twitter\n",
    "    seg_tw = Segmenter(corpus='twitter')\n",
    "\n",
    "    data = []\n",
    "    #forming a separate feature for cleaned tweets\n",
    "    for i,v in enumerate(Tweet_tgt):\n",
    "        data.append(p.clean(v))\n",
    "\n",
    "    nltk.download\n",
    "    nltk.download('wordnet')\n",
    "    nltk.download('stopwords')\n",
    "    from nltk.tokenize import TweetTokenizer\n",
    "\n",
    "    def remove_punctuation(words):\n",
    "        new_words = []\n",
    "        for word in words:\n",
    "            new_word = re.sub(r'[^\\w\\s]', '', (word))\n",
    "            if new_word != '':\n",
    "                new_words.append(new_word)\n",
    "        return new_words\n",
    "\n",
    "    lemmatizer = nltk.stem.WordNetLemmatizer()\n",
    "    w_tokenizer = TweetTokenizer()\n",
    "\n",
    "    def lemmatize_text(text):\n",
    "        return [(lemmatizer.lemmatize(w)) for w in w_tokenizer.tokenize((text))]\n",
    "\n",
    "\n",
    "    df = pd.DataFrame(data,columns=[\"Tweet\"])\n",
    "    stop_words = set(stopwords.words('english'))\n",
    "    cleaned_data = df.apply(lambda x: [item for item in \\\n",
    "    x if item not in stop_words])\n",
    "\n",
    "    z = lambda x: re.compile('\\#').sub('', re.compile('RT @').sub('@', x, count=1).strip())\n",
    "\n",
    "    full_data = []\n",
    "    for i in cleaned_data[\"Tweet\"]:\n",
    "        result = []\n",
    "        sentence = z(i.replace(\"b'RT :\", \"\").replace(\"b'\",\"\").replace('b\"RT', ''))\n",
    "        sentence = sentence.strip()\n",
    "        cleaned_sentence = sentence.split()\n",
    "        cleaned_sentence = list(filter(lambda x:x[0:1]!= \"\\\\\", sentence.split()))\n",
    "        \n",
    "        for j in cleaned_sentence:\n",
    "            sep = '\\\\'\n",
    "            stripped = j.split(sep, 1)[0]\n",
    "            result.append(stripped)\n",
    "\n",
    "        full_data.append(result)\n",
    "\n",
    "    cnt = 0\n",
    "    doge_dict = {}\n",
    "    doge = {}\n",
    "    origin[\"Date\"] = pd.to_datetime(origin.created_at)\n",
    "    origin[\"Date\"] = origin[\"Date\"].dt.date\n",
    "\n",
    "    doge_mentioned = []\n",
    "    doge_mentioned_date = []\n",
    "\n",
    "    for i in range(len(df)):\n",
    "        if any(\"doge\" in s.lower() for s in full_data[i]):\n",
    "            doge_mentioned.append(origin['text'][i])\n",
    "            doge_mentioned_date.append(origin['Date'][i])\n",
    "            cnt += 1\n",
    "            if str(origin['Date'][i]) in doge_dict:\n",
    "                doge_dict[str(origin['Date'][i])] += 1\n",
    "            else:\n",
    "                doge_dict[str(origin['Date'][i])] = 1\n",
    "            #doge_list.append(df['Tweet'][i])\n",
    "            #print(origin['created_at'][i], full_data[i])\n",
    "    print(\"Elon has mentioned Doge \" + str(cnt) + \" times in his tweets\")\n",
    "    \n",
    "    doge = pd.DataFrame()\n",
    "    doge['Date'] = doge_mentioned_date\n",
    "    doge['Tweet'] = doge_mentioned\n",
    "    #doge = pd.DataFrame([doge_mentioned_date,doge_mentioned], columns=['Date','Tweet'])\n",
    "    return doge_dict, doge\n",
    "\n",
    "doge_dict, doge_tweets = return_doge_dict()"
   ]
  },
  {
   "cell_type": "code",
   "execution_count": 133,
   "metadata": {},
   "outputs": [
    {
     "name": "stdout",
     "output_type": "stream",
     "text": [
      "          Date  BTC-USD price  BTC-USD DoD Chg  DOGE-USD price  \\\n",
      "0   2021-01-05    33992.42969         0.063197        0.009920   \n",
      "1   2021-01-06    36824.36328         0.083311        0.010465   \n",
      "2   2021-01-07    39371.04297         0.069157        0.009742   \n",
      "3   2021-01-08    40797.60938         0.036234        0.009846   \n",
      "4   2021-01-09    40254.54688        -0.013311        0.010194   \n",
      "..         ...            ...              ...             ...   \n",
      "224 2021-08-17    44695.35938        -0.028456        0.299442   \n",
      "225 2021-08-18    44801.18750         0.002368        0.303739   \n",
      "226 2021-08-19    46717.57813         0.042775        0.317144   \n",
      "227 2021-08-20    49339.17578         0.056116        0.327491   \n",
      "228 2021-08-21    48905.49219        -0.008790        0.316797   \n",
      "\n",
      "     DOGE-USD DoD Chg   SPY price  SPY DoD Chg   QQQ price  QQQ DoD Chg  \\\n",
      "0            0.015665  368.910828     0.006887  311.105743     0.008244   \n",
      "1            0.054940  371.116394     0.005979  306.796173    -0.013852   \n",
      "2           -0.069087  376.630249     0.014857  314.218201     0.024192   \n",
      "3            0.010675  378.776184     0.005698  318.258392     0.012858   \n",
      "4            0.035344  377.925100     0.001552  316.725453     0.003755   \n",
      "..                ...         ...          ...         ...          ...   \n",
      "224         -0.066330  444.040009    -0.006555  365.730011    -0.008808   \n",
      "225          0.014350  439.179993    -0.010945  362.209991    -0.009625   \n",
      "226          0.044133  439.859985     0.001548  363.959991     0.004831   \n",
      "227          0.032626  443.359985     0.007957  367.730011     0.010358   \n",
      "228         -0.032654  443.359985     0.007957  367.730011     0.010358   \n",
      "\n",
      "     Doge Pos Chg  \n",
      "0            True  \n",
      "1            True  \n",
      "2           False  \n",
      "3            True  \n",
      "4            True  \n",
      "..            ...  \n",
      "224         False  \n",
      "225          True  \n",
      "226          True  \n",
      "227          True  \n",
      "228         False  \n",
      "\n",
      "[229 rows x 10 columns]\n"
     ]
    },
    {
     "name": "stderr",
     "output_type": "stream",
     "text": [
      "<ipython-input-133-6ae2bb27471d>:5: SettingWithCopyWarning: \n",
      "A value is trying to be set on a copy of a slice from a DataFrame.\n",
      "Try using .loc[row_indexer,col_indexer] = value instead\n",
      "\n",
      "See the caveats in the documentation: https://pandas.pydata.org/pandas-docs/stable/user_guide/indexing.html#returning-a-view-versus-a-copy\n",
      "  output[file_name + \" DoD Chg\"] = output[file_name+\" price\"] / output[file_name+\" price\"].shift(1) - 1\n",
      "<ipython-input-133-6ae2bb27471d>:6: SettingWithCopyWarning: \n",
      "A value is trying to be set on a copy of a slice from a DataFrame.\n",
      "Try using .loc[row_indexer,col_indexer] = value instead\n",
      "\n",
      "See the caveats in the documentation: https://pandas.pydata.org/pandas-docs/stable/user_guide/indexing.html#returning-a-view-versus-a-copy\n",
      "  output[\"Date\"] = pd.to_datetime(df.Date)\n"
     ]
    }
   ],
   "source": [
    "#Some basic data cleaning process for Python to read independent variable data \n",
    "def clean_data(file_name):\n",
    "    df = pd.read_csv(file_name + \".csv\")\n",
    "    output = df[['Date','Adj Close']]\n",
    "    output.columns = [\"Date\", file_name+\" price\"]\n",
    "    output[file_name + \" DoD Chg\"] = output[file_name+\" price\"] / output[file_name+\" price\"].shift(1) - 1\n",
    "    output[\"Date\"] = pd.to_datetime(df.Date)\n",
    "    #output[\"Date\"] = df[\"Date\"].dt.date #pd.to_datetime(df.Date)\n",
    "    \n",
    "    #print(output)\n",
    "    \n",
    "    return output\n",
    "\n",
    "BTC = clean_data(\"BTC-USD\")\n",
    "Doge = clean_data(\"DOGE-USD\")\n",
    "SPY = clean_data(\"SPY\")\n",
    "QQQ = clean_data(\"QQQ\")\n",
    "\n",
    "data_series = BTC.merge(Doge, how='left', on='Date')\n",
    "DB = data_series.merge(SPY, how='left', on='Date')\n",
    "data_series = DB.merge(QQQ, how='left', on='Date')\n",
    "\n",
    "data_series = data_series.interpolate(method ='linear', limit_direction ='forward')\n",
    "data_series = data_series.drop([0,1,2,3]).reset_index(drop=True)\n",
    "\n",
    "data_series[\"Doge Pos Chg\"] = (data_series['DOGE-USD DoD Chg'] >= 0)\n",
    "\n",
    "data_series.to_excel(\"data.xlsx\")\n",
    "print(data_series)"
   ]
  },
  {
   "cell_type": "code",
   "execution_count": 171,
   "metadata": {},
   "outputs": [
    {
     "name": "stdout",
     "output_type": "stream",
     "text": [
      "          Date  BTC-USD price  BTC-USD DoD Chg  DOGE-USD price  \\\n",
      "30  2021-02-04    36926.06641        -0.014571        0.053289   \n",
      "32  2021-02-06    39266.01172         0.029407        0.057595   \n",
      "33  2021-02-07    38903.44141        -0.009234        0.078782   \n",
      "34  2021-02-08    46196.46484         0.187465        0.078825   \n",
      "36  2021-02-10    44918.18359        -0.033625        0.072896   \n",
      "37  2021-02-11    47909.33203         0.066591        0.069676   \n",
      "40  2021-02-14    48717.28906         0.034216        0.062537   \n",
      "46  2021-02-20    56099.51953         0.003782        0.054384   \n",
      "47  2021-02-21    57539.94531         0.025676        0.055980   \n",
      "55  2021-03-01    49631.24219         0.099550        0.050599   \n",
      "56  2021-03-02    48378.98828        -0.025231        0.050262   \n",
      "60  2021-03-06    48912.38281        -0.000305        0.050984   \n",
      "67  2021-03-13    61243.08594         0.068217        0.062432   \n",
      "69  2021-03-15    55907.19922        -0.057251        0.057088   \n",
      "72  2021-03-18    57858.92188        -0.017190        0.057383   \n",
      "86  2021-04-01    59095.80859         0.003004        0.061986   \n",
      "100 2021-04-15    63314.01172         0.003237        0.182207   \n",
      "113 2021-04-28    54824.70313        -0.003787        0.323682   \n",
      "124 2021-05-09    58232.31641        -0.009718        0.570070   \n",
      "126 2021-05-11    56704.57422         0.015123        0.495231   \n",
      "128 2021-05-13    49716.19141         0.011509        0.490374   \n",
      "131 2021-05-16    46456.05859        -0.006504        0.514895   \n",
      "135 2021-05-20    40782.73828         0.102163        0.400194   \n",
      "139 2021-05-24    38705.98047         0.113182        0.366162   \n",
      "140 2021-05-25    38402.22266        -0.007848        0.346302   \n",
      "177 2021-07-01    33572.11719        -0.041914        0.244549   \n",
      "178 2021-07-02    33897.04688         0.009679        0.245264   \n",
      "185 2021-07-09    33798.01172         0.028002        0.219864   \n",
      "189 2021-07-13    32702.02539        -0.013688        0.200003   \n",
      "193 2021-07-17    31533.06836         0.003549        0.186125   \n",
      "\n",
      "     DOGE-USD DoD Chg   SPY price  SPY DoD Chg   QQQ price  QQQ DoD Chg  \\\n",
      "30           0.435587  383.674042     0.011366  329.441284     0.011827   \n",
      "32           0.227123  386.111399     0.005031  331.296773     0.004494   \n",
      "33           0.367862  387.038656     0.006127  332.034983     0.005597   \n",
      "34           0.000546  387.965912     0.007222  332.773193     0.006700   \n",
      "36           0.040331  387.538696    -0.000436  331.945190    -0.002279   \n",
      "37          -0.044173  388.164581     0.001615  333.770752     0.005500   \n",
      "40          -0.058886  389.913117     0.002037  335.182373     0.001442   \n",
      "46          -0.013693  386.495544    -0.003741  327.366303    -0.011548   \n",
      "47           0.029347  385.502045    -0.005717  324.513214    -0.018734   \n",
      "55           0.053005  387.041931     0.024240  322.807373     0.030082   \n",
      "56          -0.006660  384.021790    -0.007803  317.629913    -0.016039   \n",
      "60           0.027717  380.498220     0.010605  305.027130     0.000603   \n",
      "67           0.127970  392.270996     0.002886  315.817627    -0.001847   \n",
      "69          -0.025669  393.827454     0.005964  318.058838     0.010683   \n",
      "72          -0.004683  388.929596    -0.014550  311.285309    -0.030631   \n",
      "86           0.155227  399.303619     0.010799  324.193939     0.017046   \n",
      "100          0.499436  414.513885     0.010742  341.214172     0.015155   \n",
      "113          0.189185  416.038879    -0.000287  338.607208    -0.003381   \n",
      "124         -0.104282  417.965932    -0.004176  328.192637    -0.014131   \n",
      "126          0.100601  412.859283    -0.008925  324.933075    -0.001381   \n",
      "128          0.272456  408.942108     0.012012  318.970001     0.007731   \n",
      "131          0.013629  414.517192     0.003422  324.693360     0.003315   \n",
      "135          0.201340  413.925812     0.010758  328.448975     0.019343   \n",
      "139          0.188564  417.803131     0.010194  332.124756     0.016819   \n",
      "140         -0.054238  416.876160    -0.002219  332.584198     0.001383   \n",
      "177         -0.038023  430.429993     0.005537  354.570007     0.000395   \n",
      "178          0.002924  433.720001     0.007644  358.640015     0.011479   \n",
      "185          0.059090  435.519989     0.010675  361.010010     0.006244   \n",
      "189         -0.038669  435.589996    -0.003409  362.420013     0.000000   \n",
      "193          0.079956  429.216664    -0.010152  356.623342    -0.008131   \n",
      "\n",
      "     Doge Pos Chg  Elon Mentioned  Doge Sentiment  \n",
      "30           True               3               0  \n",
      "32           True               1               0  \n",
      "33           True               1               0  \n",
      "34           True               1               0  \n",
      "36           True               1               0  \n",
      "37          False               2               0  \n",
      "40          False               2               0  \n",
      "46          False               1               0  \n",
      "47           True               1               0  \n",
      "55           True               1               0  \n",
      "56          False               2               0  \n",
      "60           True               1               0  \n",
      "67           True               3               0  \n",
      "69          False               1               0  \n",
      "72          False               1               0  \n",
      "86           True               1               0  \n",
      "100          True               2               0  \n",
      "113          True               1               0  \n",
      "124         False               1               0  \n",
      "126          True               1               0  \n",
      "128          True               1               0  \n",
      "131          True               3               0  \n",
      "135          True               3               0  \n",
      "139          True               2               1  \n",
      "140         False               2               0  \n",
      "177         False               2               0  \n",
      "178          True               1               0  \n",
      "185          True               1               0  \n",
      "189         False               1               0  \n",
      "193          True               1               0  \n"
     ]
    },
    {
     "name": "stderr",
     "output_type": "stream",
     "text": [
      "<ipython-input-171-829808fd8a57>:6: SettingWithCopyWarning: \n",
      "A value is trying to be set on a copy of a slice from a DataFrame\n",
      "\n",
      "See the caveats in the documentation: https://pandas.pydata.org/pandas-docs/stable/user_guide/indexing.html#returning-a-view-versus-a-copy\n",
      "  data_series[\"Elon Mentioned\"][data_series.index[data_series['Date'] == i].tolist()[0]] = doge_dict[i]\n"
     ]
    }
   ],
   "source": [
    "data_series[\"Elon Mentioned\"] = 0\n",
    "for i in em.doge_dict:\n",
    "    #print(data_series.loc[data_series['Date'] == i].index)\n",
    "    #print(data_series.index[data_series['Date'] == i].tolist()[0])\n",
    "    try:\n",
    "        data_series[\"Elon Mentioned\"][data_series.index[data_series['Date'] == i].tolist()[0]] = doge_dict[i]\n",
    "    except: \n",
    "        continue\n",
    "print(data_series.loc[data_series['Elon Mentioned'] != 0])"
   ]
  },
  {
   "cell_type": "code",
   "execution_count": 164,
   "metadata": {},
   "outputs": [
    {
     "name": "stdout",
     "output_type": "stream",
     "text": [
      "{'2021-07-17': 0.7088, '2021-07-13': 0.0, '2021-07-09': 0.5719, '2021-07-02': -0.1531, '2021-07-01': 0.0, '2021-05-25': -0.1082, '2021-05-24': 1.6413, '2021-05-20': 0.5691999999999999, '2021-05-16': -0.16969999999999996, '2021-05-13': 0.7964, '2021-05-11': 0.4404, '2021-05-09': 0.0, '2021-04-28': 0.0, '2021-04-15': 0.0, '2021-04-01': 0.0, '2021-03-18': 0.0, '2021-03-15': 0.0, '2021-03-13': -0.3612, '2021-03-06': 0.0, '2021-03-02': -0.5106, '2021-03-01': 0.0, '2021-02-21': 0.0, '2021-02-20': 0.5106, '2021-02-14': 0.7201, '2021-02-11': -0.8155, '2021-02-10': 0.0, '2021-02-08': -0.3291, '2021-02-07': 0.0, '2021-02-06': 0.0, '2021-02-04': 0.0721, '2020-12-20': 0.0, '2020-11-17': 0.0}\n"
     ]
    }
   ],
   "source": [
    "from vaderSentiment.vaderSentiment import SentimentIntensityAnalyzer\n",
    "#note: depending on how you installed (e.g., using source code download versus pip install), you may need to import like this:\n",
    "#from vaderSentiment import SentimentIntensityAnalyzer\n",
    "\n",
    "analyzer = SentimentIntensityAnalyzer()\n",
    "total_sentiment = 0\n",
    "\n",
    "doge_sentiment = {}\n",
    "for i in range(len(doge_tweets['Tweet'])):\n",
    "    vs = analyzer.polarity_scores(doge_tweets['Tweet'][i])\n",
    "    #print(\"{:-<65} {}\".format(sentence, str(vs)))\n",
    "    total_sentiment += vs['compound']\n",
    "    \n",
    "    if str(doge_tweets['Date'][i]) in doge_sentiment:\n",
    "        doge_sentiment[str(doge_tweets['Date'][i])] += vs['compound']\n",
    "    else:\n",
    "        doge_sentiment[str(doge_tweets['Date'][i])] = vs['compound']\n",
    "    "
   ]
  },
  {
   "cell_type": "code",
   "execution_count": 180,
   "metadata": {},
   "outputs": [
    {
     "name": "stderr",
     "output_type": "stream",
     "text": [
      "<ipython-input-180-196251b05a1d>:6: SettingWithCopyWarning: \n",
      "A value is trying to be set on a copy of a slice from a DataFrame\n",
      "\n",
      "See the caveats in the documentation: https://pandas.pydata.org/pandas-docs/stable/user_guide/indexing.html#returning-a-view-versus-a-copy\n",
      "  data_series[\"Doge Sentiment\"][data_series.index[data_series['Date'] == i].tolist()[0]] = doge_sentiment[i]\n"
     ]
    }
   ],
   "source": [
    "data_series[\"Doge Sentiment\"] = 0.0\n",
    "for i in doge_sentiment:\n",
    "    #print(data_series.loc[data_series['Date'] == i].index)\n",
    "    #print(data_series.index[data_series['Date'] == i].tolist()[0])\n",
    "    try:\n",
    "        data_series[\"Doge Sentiment\"][data_series.index[data_series['Date'] == i].tolist()[0]] = doge_sentiment[i]\n",
    "    except: \n",
    "        continue\n",
    "        \n",
    "#data_series.to_excel('Check.xlsx')\n",
    "#print(data_series.loc[data_series['Doge Sentiment'] != 0])"
   ]
  },
  {
   "cell_type": "code",
   "execution_count": 181,
   "metadata": {},
   "outputs": [],
   "source": [
    "import matplotlib.pyplot as plt\n",
    "import numpy as np\n",
    "from sklearn.linear_model import LogisticRegression\n",
    "from sklearn.metrics import classification_report, confusion_matrix"
   ]
  },
  {
   "cell_type": "code",
   "execution_count": 182,
   "metadata": {},
   "outputs": [],
   "source": [
    "#print(data_series.columns)\n",
    "X = data_series[['BTC-USD DoD Chg', 'SPY DoD Chg', 'QQQ DoD Chg', 'Doge Sentiment']]\n",
    "y = data_series['Doge Pos Chg']"
   ]
  },
  {
   "cell_type": "code",
   "execution_count": 211,
   "metadata": {},
   "outputs": [
    {
     "name": "stdout",
     "output_type": "stream",
     "text": [
      "Accuracy: 0.590 (0.084)\n",
      "[[2.28145937 0.080893   0.06471395 0.47145258]] [-0.24578127]\n"
     ]
    }
   ],
   "source": [
    "from numpy import mean\n",
    "from numpy import std\n",
    "from sklearn.datasets import make_classification\n",
    "from sklearn.model_selection import KFold\n",
    "from sklearn.model_selection import cross_val_score\n",
    "from sklearn.linear_model import LogisticRegression\n",
    "# create dataset\n",
    "X = data_series[['BTC-USD DoD Chg', 'SPY DoD Chg', 'QQQ DoD Chg','Elon Mentioned']]\n",
    "y = data_series['Doge Pos Chg']\n",
    "# prepare the cross-validation procedure\n",
    "cv = KFold(n_splits=10, random_state=1, shuffle=True)\n",
    "# create model\n",
    "model = LogisticRegression()\n",
    "# evaluate model\n",
    "scores = cross_val_score(model, X, y, scoring='accuracy', cv=cv, n_jobs=-1)\n",
    "# report performance\n",
    "print('Accuracy: %.3f (%.3f)' % (mean(scores), std(scores)))\n",
    "\n",
    "clf = LogisticRegression(random_state=0).fit(X, y)\n",
    "\n",
    "print(clf.coef_, clf.intercept_)"
   ]
  },
  {
   "cell_type": "code",
   "execution_count": 203,
   "metadata": {},
   "outputs": [
    {
     "name": "stdout",
     "output_type": "stream",
     "text": [
      ">1 mean=0.5812 se=0.033\n",
      ">2 mean=0.5834 se=0.024\n",
      ">3 mean=0.5852 se=0.019\n",
      ">4 mean=0.5865 se=0.017\n",
      ">5 mean=0.5879 se=0.015\n",
      ">6 mean=0.5891 se=0.014\n",
      ">7 mean=0.5879 se=0.013\n",
      ">8 mean=0.5877 se=0.012\n",
      ">9 mean=0.5874 se=0.011\n",
      ">10 mean=0.5877 se=0.011\n",
      ">11 mean=0.5874 se=0.010\n",
      ">12 mean=0.5872 se=0.010\n",
      ">13 mean=0.5871 se=0.009\n",
      ">14 mean=0.5866 se=0.009\n",
      ">15 mean=0.5862 se=0.009\n"
     ]
    },
    {
     "data": {
      "image/png": "[encoded data removed]",
      "text/plain": [
       "<Figure size 432x288 with 1 Axes>"
      ]
     },
     "metadata": {
      "needs_background": "light"
     },
     "output_type": "display_data"
    }
   ],
   "source": [
    "from scipy.stats import sem\n",
    "from numpy import mean\n",
    "from numpy import std\n",
    "from sklearn.datasets import make_classification\n",
    "from sklearn.model_selection import RepeatedKFold\n",
    "from sklearn.model_selection import cross_val_score\n",
    "from sklearn.linear_model import LogisticRegression\n",
    "from matplotlib import pyplot\n",
    " \n",
    "# evaluate a model with a given number of repeats\n",
    "def evaluate_model(X, y, repeats):\n",
    "\t# prepare the cross-validation procedure\n",
    "\tcv = RepeatedKFold(n_splits=10, n_repeats=repeats, random_state=1)\n",
    "\t# create model\n",
    "\tmodel = LogisticRegression()\n",
    "\t# evaluate model\n",
    "\tscores = cross_val_score(model, X, y, scoring='accuracy', cv=cv, n_jobs=-1)\n",
    "\treturn scores\n",
    " \n",
    "# create dataset\n",
    "#X, y = make_classification(n_samples=1000, n_features=20, n_informative=15, n_redundant=5, random_state=1)\n",
    "X = data_series[['BTC-USD DoD Chg', 'SPY DoD Chg', 'QQQ DoD Chg', \"Elon Mentioned\", 'Doge Sentiment']]\n",
    "y = data_series['Doge Pos Chg']\n",
    "# configurations to test\n",
    "repeats = range(1,16)\n",
    "results = list()\n",
    "for r in repeats:\n",
    "\t# evaluate using a given number of repeats\n",
    "\tscores = evaluate_model(X, y, r)\n",
    "\t# summarize\n",
    "\tprint('>%d mean=%.4f se=%.3f' % (r, mean(scores), sem(scores)))\n",
    "\t# store\n",
    "\tresults.append(scores)\n",
    "# plot the results\n",
    "pyplot.boxplot(results, labels=[str(r) for r in repeats], showmeans=True)\n",
    "pyplot.show()"
   ]
  },
  {
   "cell_type": "code",
   "execution_count": 204,
   "metadata": {},
   "outputs": [
    {
     "data": {
      "image/png": "[encoded data removed]",
      "text/plain": [
       "<Figure size 576x576 with 1 Axes>"
      ]
     },
     "metadata": {
      "needs_background": "light"
     },
     "output_type": "display_data"
    }
   ],
   "source": [
    "model.fit(X,y)\n",
    "cm = confusion_matrix(y, model.predict(X))\n",
    "\n",
    "fig, ax = plt.subplots(figsize=(8, 8))\n",
    "ax.imshow(cm)\n",
    "ax.grid(False)\n",
    "ax.xaxis.set(ticks=(0, 1), ticklabels=('Predicted 0s', 'Predicted 1s'))\n",
    "ax.yaxis.set(ticks=(0, 1), ticklabels=('Actual 0s', 'Actual 1s'))\n",
    "ax.set_ylim(1.5, -0.5)\n",
    "for i in range(2):\n",
    "    for j in range(2):\n",
    "        ax.text(j, i, cm[i, j], ha='center', va='center', color='red')\n",
    "plt.show()\n",
    "\n",
    "df = pd.DataFrame(model.predict(X))\n",
    "df.to_excel('Predicted.xlsx')"
   ]
  },
  {
   "cell_type": "code",
   "execution_count": null,
   "metadata": {},
   "outputs": [],
   "source": []
  }
 ],
 "metadata": {
  "kernelspec": {
   "display_name": "Python 3",
   "language": "python",
   "name": "python3"
  },
  "language_info": {
   "codemirror_mode": {
    "name": "ipython",
    "version": 3
   },
   "file_extension": ".py",
   "mimetype": "text/x-python",
   "name": "python",
   "nbconvert_exporter": "python",
   "pygments_lexer": "ipython3",
   "version": "3.8.5"
  }
 },
 "nbformat": 4,
 "nbformat_minor": 4
}
